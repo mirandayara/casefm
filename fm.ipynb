{
 "cells": [
  {
   "cell_type": "code",
   "execution_count": 15,
   "metadata": {},
   "outputs": [],
   "source": [
    "import pandas as pd"
   ]
  },
  {
   "cell_type": "code",
   "execution_count": 16,
   "metadata": {},
   "outputs": [],
   "source": [
    "users_file = r\"C:\\Users\\YaraCecilianadosSant\\Downloads\\users.csv\"\n",
    "transactions_file = r\"C:\\Users\\YaraCecilianadosSant\\Downloads\\user_transaction_items_retificado2.csv\""
   ]
  },
  {
   "cell_type": "code",
   "execution_count": 17,
   "metadata": {},
   "outputs": [],
   "source": [
    "# Tentar ler os arquivos com diferentes separadores\n",
    "users_df = pd.read_csv(users_file, sep=\",\", encoding=\"utf-8\")\n",
    "transactions_df = pd.read_csv(transactions_file, sep=\",\", encoding=\"utf-8\")"
   ]
  },
  {
   "cell_type": "code",
   "execution_count": 18,
   "metadata": {},
   "outputs": [],
   "source": [
    "# Renomear colunas para snake_case\n",
    "users_df.columns = [\n",
    "    \"ad_id\", \"user_id\", \"creation_date\", \"approved_first_mdc_date\", \"status_description\",\n",
    "    \"active_plans_count\", \"followers\", \"city\", \"state\", \"deletion_date\", \"last_seen\",\n",
    "    \"first_purchase_date\", \"last_purchase_date\", \"number_of_purchases\", \"total_invested\",\n",
    "    \"posts\", \"active_posts\", \"active_videos\", \"disabled_date\", \"disabled_until_date\",\n",
    "    \"documents_status\"\n",
    "]"
   ]
  },
  {
   "cell_type": "code",
   "execution_count": 19,
   "metadata": {},
   "outputs": [],
   "source": [
    "# Converter colunas de datas\n",
    "date_columns_users = [\n",
    "    \"creation_date\", \"approved_first_mdc_date\", \"deletion_date\", \"last_seen\",\n",
    "    \"first_purchase_date\", \"last_purchase_date\", \"disabled_date\", \"disabled_until_date\"\n",
    "]\n",
    "for col in date_columns_users:\n",
    "    users_df[col] = pd.to_datetime(users_df[col], errors='coerce')"
   ]
  },
  {
   "cell_type": "code",
   "execution_count": 20,
   "metadata": {},
   "outputs": [],
   "source": [
    "# Converter colunas numéricas\n",
    "num_columns_users = [\"active_plans_count\", \"number_of_purchases\", \"total_invested\", \"posts\", \"active_posts\", \"active_videos\"]\n",
    "users_df[num_columns_users] = users_df[num_columns_users].apply(pd.to_numeric, errors='coerce')"
   ]
  },
  {
   "cell_type": "code",
   "execution_count": 21,
   "metadata": {},
   "outputs": [],
   "source": [
    "transactions_df.columns = [\n",
    "    \"created_at\", \"approved_at\", \"uf\", \"payment_method\", \"period\", \"quantity\",\n",
    "    \"transaction_total_items\", \"plan\", \"initial_purchase\", \"full_value\", \"transaction_paid_value\",\n",
    "    \"paid_value\", \"transaction_id\", \"user_id\", \"userable_id\", \"discount_percent\"\n",
    "]"
   ]
  },
  {
   "cell_type": "code",
   "execution_count": 22,
   "metadata": {},
   "outputs": [],
   "source": [
    "# Converter colunas de datas\n",
    "date_columns_transactions = [\"created_at\", \"approved_at\"]\n",
    "for col in date_columns_transactions:\n",
    "    transactions_df[col] = pd.to_datetime(transactions_df[col], errors='coerce')"
   ]
  },
  {
   "cell_type": "code",
   "execution_count": 23,
   "metadata": {},
   "outputs": [],
   "source": [
    "users_df.to_csv(r\"C:\\Users\\YaraCecilianadosSant\\Downloads\\users_processed.csv\", index=False)\n",
    "transactions_df.to_csv(r\"C:\\Users\\YaraCecilianadosSant\\Downloads\\transactions_processed.csv\", index=False)"
   ]
  }
 ],
 "metadata": {
  "kernelspec": {
   "display_name": "base",
   "language": "python",
   "name": "python3"
  },
  "language_info": {
   "codemirror_mode": {
    "name": "ipython",
    "version": 3
   },
   "file_extension": ".py",
   "mimetype": "text/x-python",
   "name": "python",
   "nbconvert_exporter": "python",
   "pygments_lexer": "ipython3",
   "version": "3.12.7"
  }
 },
 "nbformat": 4,
 "nbformat_minor": 2
}
